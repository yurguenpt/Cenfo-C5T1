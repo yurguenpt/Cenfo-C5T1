{
 "cells": [
  {
   "cell_type": "code",
   "execution_count": 1,
   "metadata": {},
   "outputs": [],
   "source": [
    "import pandas as pd\n",
    "\n",
    "# Load the dataset\n",
    "df = pd.read_csv(\"existingproductattributes2017.csv\", header=0)"
   ]
  },
  {
   "cell_type": "code",
   "execution_count": 2,
   "metadata": {},
   "outputs": [
    {
     "name": "stdout",
     "output_type": "stream",
     "text": [
      "<class 'pandas.core.frame.DataFrame'>\n",
      "RangeIndex: 80 entries, 0 to 79\n",
      "Data columns (total 18 columns):\n",
      "ProductType              80 non-null object\n",
      "ProductNum               80 non-null int64\n",
      "Price                    80 non-null float64\n",
      "x5StarReviews            80 non-null int64\n",
      "x4StarReviews            80 non-null int64\n",
      "x3StarReviews            80 non-null int64\n",
      "x2StarReviews            80 non-null int64\n",
      "x1StarReviews            80 non-null int64\n",
      "PositiveServiceReview    80 non-null int64\n",
      "NegativeServiceReview    80 non-null int64\n",
      "Recommendproduct         80 non-null float64\n",
      "BestSellersRank          65 non-null float64\n",
      "ShippingWeight           80 non-null float64\n",
      "ProductDepth             80 non-null float64\n",
      "ProductWidth             80 non-null float64\n",
      "ProductHeight            80 non-null float64\n",
      "ProfitMargin             80 non-null float64\n",
      "Volume                   80 non-null int64\n",
      "dtypes: float64(8), int64(9), object(1)\n",
      "memory usage: 11.3+ KB\n",
      "None\n"
     ]
    }
   ],
   "source": [
    "print(df.info())"
   ]
  },
  {
   "cell_type": "code",
   "execution_count": null,
   "metadata": {},
   "outputs": [],
   "source": []
  }
 ],
 "metadata": {
  "kernelspec": {
   "display_name": "Python 3",
   "language": "python",
   "name": "python3"
  },
  "language_info": {
   "codemirror_mode": {
    "name": "ipython",
    "version": 3
   },
   "file_extension": ".py",
   "mimetype": "text/x-python",
   "name": "python",
   "nbconvert_exporter": "python",
   "pygments_lexer": "ipython3",
   "version": "3.7.3"
  }
 },
 "nbformat": 4,
 "nbformat_minor": 4
}
